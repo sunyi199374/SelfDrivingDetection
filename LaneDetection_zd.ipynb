{
 "cells": [
  {
   "cell_type": "code",
   "execution_count": 6,
   "metadata": {
    "collapsed": true
   },
   "outputs": [],
   "source": [
    "import cv2\n",
    "import numpy as np\n",
    "%matplotlib inline\n",
    "import matplotlib.pyplot as plt\n",
    "import random\n",
    "\n",
    "def select_white_yellow(image):\n",
    "    hls = convert_hls(image)\n",
    "    # white color mask\n",
    "    lower = np.uint8([  0, 200,0])\n",
    "    upper = np.uint8([255, 255, 255])\n",
    "    white_mask = cv2.inRange(hls, lower, upper)\n",
    "    \n",
    "    hsv = convert_hsv(image)\n",
    "    # yellow color mask HSV\n",
    "    lower = np.uint8([ 40, 20, 0])\n",
    "    upper = np.uint8([ 110, 255, 255])\n",
    "    #lower = np.uint8([ 30, 20, 0])\n",
    "    #upper = np.uint8([ 80, 100, 100])\n",
    "    \n",
    "    yellow_mask = cv2.inRange(hsv, lower, upper)\n",
    "    # combine the mask\n",
    "    mask = cv2.bitwise_or(white_mask, yellow_mask)\n",
    "\n",
    "    return cv2.bitwise_and(image, image, mask = mask)\n",
    "def convert_hls(image):\n",
    "    return cv2.cvtColor(image, cv2.COLOR_RGB2HLS)\n",
    "def convert_hsv(image):\n",
    "    return cv2.cvtColor(image, cv2.COLOR_RGB2HSV)\n",
    "\n",
    "def select_region(image):\n",
    "    # first, define the polygon by vertices\n",
    "    rows, cols = image.shape[:2]\n",
    "    bottom_left  = [cols*0.35, rows*0.95]\n",
    "    top_left     = [cols*0.6, rows*0.3]\n",
    "    bottom_right = [cols*0.6, rows*0.95]\n",
    "    top_right    = [cols*0.35, rows*0.3] \n",
    "    # the vertices are an array of polygons (i.e array of arrays) and the data type must be integer\n",
    "    vertices = np.array([[bottom_left, bottom_right, top_left, top_right]], dtype=np.int32)\n",
    "    mask = np.zeros_like(image)\n",
    "    if len(img.shape)==3:\n",
    "        cv2.fillPoly(mask, vertices, 255)\n",
    "    else:\n",
    "        cv2.fillPoly(mask, vertices, (255,)*mask.shape[2])   \n",
    "\n",
    "    return cv2.bitwise_and(image, mask)"
   ]
  },
  {
   "cell_type": "code",
   "execution_count": 7,
   "metadata": {
    "collapsed": true
   },
   "outputs": [],
   "source": [
    "def getcell(ind,nd):\n",
    "    x,y=ind\n",
    "    cell=np.zeros(nd)\n",
    "    theta=np.array(range(nd))/nd*np.pi\n",
    "    theta1=np.arctan(y/x)\n",
    "    l=(x**2+y**2)**0.5\n",
    "    for i in range(nd):\n",
    "        cell[i]=abs(np.cos(theta[i]-theta1)*l)\n",
    "    return cell\n",
    "def redefine(res,r=0.7):\n",
    "    ma=res.max()\n",
    "    line=np.where(res>r*ma)\n",
    "    return line\n",
    "def gather(lines):\n",
    "    fline=[]\n",
    "    line=np.array(lines)\n",
    "    nl=len(line[0])\n",
    "    for i in range(nl):\n",
    "        if not fline:\n",
    "            fline.append(line[:,i])\n",
    "            print('new:{}'.format(line[:,i]))\n",
    "        else:\n",
    "            res=(fline-line[:,i])**2\n",
    "            print(res)\n",
    "            resmin=np.min(res.sum(axis=1))\n",
    "            if resmin>300:\n",
    "                fline.append(line[:,i])\n",
    "                print('new:{}'.format(line[:,i]))\n",
    "    return fline\n"
   ]
  },
  {
   "cell_type": "code",
   "execution_count": 93,
   "metadata": {
    "collapsed": true
   },
   "outputs": [],
   "source": [
    "def gather(lines):\n",
    "    line=np.array(lines)\n",
    "    nl=len(line[0])\n",
    "    print(nl)\n",
    "    center=-np.ones([nl,2])\n",
    "    num=np.zeros(nl)\n",
    "    c=0\n",
    "    for i in range(nl):\n",
    "        #print(center)\n",
    "        if c==0:\n",
    "            center[c,:]=line[:,i]\n",
    "            c=c+1\n",
    "            num[c]=num[c]+1\n",
    "            #print('new:{}'.format(line[:,i]))\n",
    "        else:\n",
    "            res=((center-line[:,i])**2).sum(axis=1)\n",
    "            resmin=np.min(res)\n",
    "            if resmin>300:\n",
    "                center[c,:]=line[:,i]\n",
    "                c=c+1\n",
    "                num[c]=num[c]+1\n",
    "                #print('new:{}'.format(line[:,i]))\n",
    "            else :\n",
    "                pos=np.where(res==resmin)\n",
    "                center[pos,:]=(center[pos,:]*num[c]+line[:,i])/(num[c]+1)\n",
    "                num[pos]=num[pos]+1\n",
    "                #print('new added:{}'.format(line[:,i]))\n",
    "    ind=(-num).argsort()[0:2]\n",
    "    fline=center[ind,:]\n",
    "    return fline\n",
    "def linedraw(img,line):\n",
    "    nl=len(line)\n",
    "    ind1=[]\n",
    "    ind2=[]\n",
    "    for i in range(nl):\n",
    "        r,theta=line[i]\n",
    "        theta=theta/360*np.pi\n",
    "        a = np.cos(theta)\n",
    "        b = np.sin(theta)\n",
    "        x0 = a*r\n",
    "        y0 = b*r\n",
    "        x1 = int(x0 + 100*(-b))\n",
    "        y1 = int(y0 + 100*(a))\n",
    "        x2 = int(x0 - 100*(-b))\n",
    "        y2 = int(y0 - 100*(a))\n",
    "        #cv2.line(img,(y1,x1),(y2,x2),50,2)\n",
    "        ind1.append([y1,x1])\n",
    "        ind2.append([y2,x2])\n",
    "    indm=[list(np.array(ind1).mean(axis=0).astype(int)),list(np.array(ind2).mean(axis=0).astype(int))]\n",
    "    #cv2.line(img,tuple(indm[0]),tuple(indm[1]),100,2)\n",
    "    #cv2.imshow('bird',img)\n",
    "    return ind1,ind2,indm"
   ]
  },
  {
   "cell_type": "code",
   "execution_count": 94,
   "metadata": {
    "collapsed": true
   },
   "outputs": [],
   "source": [
    "def hough(edges,prel):\n",
    "    ac=0.5\n",
    "    edgep=np.array(np.where(edges>0)).T\n",
    "    l=len(edgep)\n",
    "    nd=round(180/ac)\n",
    "    cells=np.zeros([l,nd])\n",
    "    for i in range(l):\n",
    "        cells[i,:]=getcell(edgep[i],nd)\n",
    "    cells=cells.astype('int')\n",
    "    m=cells.max()\n",
    "    res=np.zeros([m,nd])\n",
    "    for i in range(l):\n",
    "        for j in range(nd):\n",
    "            r=cells[i,j]\n",
    "            d=j\n",
    "            res[r-1,j]=res[r-1,j]+1\n",
    "    res=(res/res.max())\n",
    "    lines=redefine(res,0.5)\n",
    "    line=gather(lines)\n",
    "    if (line[1]**2).sum()<10:\n",
    "        ind1,ind2,indm=prel\n",
    "    else:\n",
    "        ind1,ind2,indm=linedraw(gray2,line)\n",
    "    return ind1,ind2,indm\n",
    "def renew(prel,newl):\n",
    "    for i in range(3):\n",
    "        result=[prel[0]]"
   ]
  },
  {
   "cell_type": "code",
   "execution_count": 95,
   "metadata": {},
   "outputs": [
    {
     "name": "stdout",
     "output_type": "stream",
     "text": [
      "24\n"
     ]
    },
    {
     "ename": "TypeError",
     "evalue": "can't multiply sequence by non-int of type 'float'",
     "output_type": "error",
     "traceback": [
      "\u001b[0;31m---------------------------------------------------------------------------\u001b[0m",
      "\u001b[0;31mTypeError\u001b[0m                                 Traceback (most recent call last)",
      "\u001b[0;32m<ipython-input-95-08a835b07a34>\u001b[0m in \u001b[0;36m<module>\u001b[0;34m()\u001b[0m\n\u001b[1;32m    105\u001b[0m             \u001b[0mnewl\u001b[0m\u001b[0;34m=\u001b[0m\u001b[0mhough\u001b[0m\u001b[0;34m(\u001b[0m\u001b[0medges\u001b[0m\u001b[0;34m,\u001b[0m\u001b[0mprel\u001b[0m\u001b[0;34m)\u001b[0m\u001b[0;34m\u001b[0m\u001b[0m\n\u001b[1;32m    106\u001b[0m         \u001b[0;31m#lsd(gray)\u001b[0m\u001b[0;34m\u001b[0m\u001b[0;34m\u001b[0m\u001b[0m\n\u001b[0;32m--> 107\u001b[0;31m         \u001b[0mprel\u001b[0m\u001b[0;34m=\u001b[0m\u001b[0;34m[\u001b[0m\u001b[0mnewl\u001b[0m\u001b[0;34m[\u001b[0m\u001b[0;36m0\u001b[0m\u001b[0;34m]\u001b[0m\u001b[0;34m*\u001b[0m\u001b[0mpro\u001b[0m\u001b[0;34m+\u001b[0m\u001b[0mprel\u001b[0m\u001b[0;34m[\u001b[0m\u001b[0;36m0\u001b[0m\u001b[0;34m]\u001b[0m\u001b[0;34m*\u001b[0m\u001b[0;34m(\u001b[0m\u001b[0;36m1\u001b[0m\u001b[0;34m-\u001b[0m\u001b[0mpro\u001b[0m\u001b[0;34m)\u001b[0m\u001b[0;34m,\u001b[0m\u001b[0mnewl\u001b[0m\u001b[0;34m[\u001b[0m\u001b[0;36m0\u001b[0m\u001b[0;34m]\u001b[0m\u001b[0;34m*\u001b[0m\u001b[0mpro\u001b[0m\u001b[0;34m+\u001b[0m\u001b[0mprel\u001b[0m\u001b[0;34m[\u001b[0m\u001b[0;36m0\u001b[0m\u001b[0;34m]\u001b[0m\u001b[0;34m*\u001b[0m\u001b[0;34m(\u001b[0m\u001b[0;36m1\u001b[0m\u001b[0;34m-\u001b[0m\u001b[0mpro\u001b[0m\u001b[0;34m)\u001b[0m\u001b[0;34m,\u001b[0m\u001b[0mnewl\u001b[0m\u001b[0;34m[\u001b[0m\u001b[0;36m0\u001b[0m\u001b[0;34m]\u001b[0m\u001b[0;34m*\u001b[0m\u001b[0mpro\u001b[0m\u001b[0;34m+\u001b[0m\u001b[0mprel\u001b[0m\u001b[0;34m[\u001b[0m\u001b[0;36m0\u001b[0m\u001b[0;34m]\u001b[0m\u001b[0;34m*\u001b[0m\u001b[0;34m(\u001b[0m\u001b[0;36m1\u001b[0m\u001b[0;34m-\u001b[0m\u001b[0mpro\u001b[0m\u001b[0;34m)\u001b[0m\u001b[0;34m]\u001b[0m\u001b[0;34m\u001b[0m\u001b[0m\n\u001b[0m\u001b[1;32m    108\u001b[0m         \u001b[0mgray1\u001b[0m\u001b[0;34m=\u001b[0m\u001b[0mcv2\u001b[0m\u001b[0;34m.\u001b[0m\u001b[0mwarpPerspective\u001b[0m\u001b[0;34m(\u001b[0m\u001b[0mgray\u001b[0m\u001b[0;34m,\u001b[0m \u001b[0mMi\u001b[0m\u001b[0;34m,\u001b[0m \u001b[0;34m(\u001b[0m\u001b[0mcropy\u001b[0m\u001b[0;34m,\u001b[0m \u001b[0mcropx\u001b[0m\u001b[0;34m)\u001b[0m\u001b[0;34m)\u001b[0m\u001b[0;34m\u001b[0m\u001b[0m\n\u001b[1;32m    109\u001b[0m         \u001b[0mframe0\u001b[0m\u001b[0;34m[\u001b[0m\u001b[0mmidx\u001b[0m\u001b[0;34m-\u001b[0m\u001b[0moffsetx\u001b[0m\u001b[0;34m+\u001b[0m\u001b[0;36m30\u001b[0m\u001b[0;34m:\u001b[0m\u001b[0mmidx\u001b[0m\u001b[0;34m+\u001b[0m\u001b[0moffsetx\u001b[0m\u001b[0;34m-\u001b[0m\u001b[0;36m10\u001b[0m\u001b[0;34m,\u001b[0m \u001b[0mmidy\u001b[0m\u001b[0;34m-\u001b[0m\u001b[0moffsety\u001b[0m\u001b[0;34m:\u001b[0m\u001b[0mmidy\u001b[0m\u001b[0;34m+\u001b[0m\u001b[0moffsety\u001b[0m\u001b[0;34m]\u001b[0m\u001b[0;34m=\u001b[0m\u001b[0mgray1\u001b[0m\u001b[0;34m\u001b[0m\u001b[0m\n",
      "\u001b[0;31mTypeError\u001b[0m: can't multiply sequence by non-int of type 'float'"
     ]
    }
   ],
   "source": [
    "\n",
    " \n",
    "# Create a VideoCapture object and read from input file\n",
    "# If the input is the camera, pass 0 instead of the video file name\n",
    "#vedioname = input(\"vedio name: \")\n",
    "vedioname = 't1.mp4'\n",
    "cap = cv2.VideoCapture(vedioname)\n",
    "flag=0\n",
    "pro=0.3\n",
    "# Check if camera opened successfully\n",
    "if (cap.isOpened()== False): \n",
    "    print(\"Error opening video stream or file\")\n",
    "\n",
    "# Read until video is completed\n",
    "while(cap.isOpened()):\n",
    "# Capture frame-by-frame\n",
    "    ret, frame = cap.read()\n",
    "    \n",
    "\n",
    "    # main operation goes here\n",
    "    if ret == True:\n",
    "        frame = cv2.resize(frame, (640, 480))\n",
    "        frame0=frame[:,:]\n",
    "        gray = cv2.cvtColor(frame,cv2.COLOR_BGR2GRAY)\n",
    "        \n",
    "        r,c,n = frame.shape\n",
    "        midx = int(c/2)\n",
    "        midy = int(r/2)\n",
    "        offsetx = 80\n",
    "        offsety = 100\n",
    "        frame = frame[midx-offsetx+30:midx+offsetx-10, midy-offsety:midy+offsety]\n",
    "\n",
    "        #equlizer in rgb\n",
    "        img_yuv = cv2.cvtColor(frame, cv2.COLOR_BGR2YUV)\n",
    "        # equalize the histogram of the Y channel\n",
    "        img_yuv[:,:,0] = cv2.equalizeHist(img_yuv[:,:,0])\n",
    "        # convert the YUV image back to RGB format\n",
    "        img = cv2.cvtColor(img_yuv, cv2.COLOR_YUV2BGR)\n",
    "        \n",
    "        #converting grayscale and resize\n",
    "        img = select_white_yellow(img)\n",
    "        \n",
    "        #img = cv2.cvtColor(frame, cv2.COLOR_RGB2HSV)\n",
    "        \n",
    "\n",
    "        gray = cv2.cvtColor(img,cv2.COLOR_BGR2GRAY)\n",
    "        cropx,cropy = gray.shape\n",
    "        #print(cropx,cropy)\n",
    "        \n",
    "        #Equlization cliplimit 1 subtle, 3,4 aggressive\n",
    "        #clahe = cv2.createCLAHE(clipLimit=4.0, tileGridSize=(2,2))\n",
    "        #gray = clahe.apply(gray)\n",
    "        #Equlization \n",
    "        #gray = cv2.equalizeHist(gray)\n",
    "        \n",
    "        #find features\n",
    "        #corners = cv2.goodFeaturesToTrack(gray,25,0.01,10)\n",
    "        #corners = np.int0(corners)\n",
    "        #draw features\n",
    "        #for i in corners:\n",
    "        #    x,y = i.ravel()\n",
    "        #    cv2.circle(gray,(x,y),3,255,-1)\n",
    "        \n",
    "        #Threshhold\n",
    "        #retse, gray = cv2.threshold(gray,10,255,cv2.THRESH_BINARY_INV+cv2.THRESH_OTSU)\n",
    "\n",
    "        \n",
    "        #birds eye transformation\n",
    "        ofho = 85\n",
    "        src = np.float32([[0, cropx], [cropy, cropx], [0, 0], [cropy, 0]])\n",
    "        dst = np.float32([[ofho, cropx], [cropy-ofho, cropx], [0, 0], [cropy, 0]])\n",
    "        M = cv2.getPerspectiveTransform(src, dst) # The transformation matrix\n",
    "        Mi = cv2.getPerspectiveTransform(dst, src) # The transformation matrix\n",
    "        gray = cv2.warpPerspective(gray, M, (cropy, cropx))\n",
    "        #cutof = 60\n",
    "        #gray = gray[0:cropx,cutof:cropy-cutof]\n",
    "        #gray = cv2.warpPerspective(gray, Mi, (cropy, cropx))\n",
    "                \n",
    "        #filter region\n",
    "        gray = select_region(gray)\n",
    "        #canny edge detection\n",
    "        gray = cv2.Canny(gray,80,150,apertureSize = 3)\n",
    "        \n",
    "        #dilation process\n",
    "        kernel = np.ones((2,2),np.uint8)\n",
    "        gray = cv2.dilate(gray,kernel,iterations = 1)\n",
    "        #threshold\n",
    "        retse, gray = cv2.threshold(gray,100,255,cv2.THRESH_BINARY_INV+cv2.THRESH_OTSU)\n",
    "        #lsd line detection\n",
    "        segd = cv2.createLineSegmentDetector(0)\n",
    "        dlines = segd.detect(gray)[0]\n",
    "        gray = segd.drawSegments(gray,dlines)\n",
    "        gray2 = cv2.cvtColor(gray,cv2.COLOR_BGR2GRAY)\n",
    "        edges = cv2.Canny(gray2,50,150,apertureSize = 3)\n",
    "        kernel = np.ones((1,1),np.uint8)\n",
    "        \n",
    "        edges = cv2.dilate(edges,kernel,iterations = 1)\n",
    "        cv2.imshow('step1',edges)\n",
    "        #gray0=cv2.cvtColor(gray,cv2.COLOR_BGR2GRAY)\n",
    "        if flag==0:\n",
    "            newl=hough(edges,[])\n",
    "            prel=newl\n",
    "            flag=1\n",
    "        else:\n",
    "            newl=hough(edges,prel)\n",
    "        #lsd(gray)\n",
    "        prel=[newl[0]*pro+prel[0]*(1-pro),newl[0]*pro+prel[0]*(1-pro),newl[0]*pro+prel[0]*(1-pro)]\n",
    "        gray1=cv2.warpPerspective(gray, Mi, (cropy, cropx))\n",
    "        frame0[midx-offsetx+30:midx+offsetx-10, midy-offsety:midy+offsety]=gray1\n",
    "        #gray1 = cv2.resize(gray1,(640,480))\n",
    "        result=frame0[:]\n",
    "        \n",
    "        cv2.imshow('Frame',result)\n",
    "           \n",
    "        if cv2.waitKey(50000) & 0xFF == ord('q'):\n",
    "            break\n",
    "    else:\n",
    "        break\n",
    "    # Press Q on keyboard to exitq\n",
    "    \n",
    "\n",
    "\n",
    "# When everything done, release the video capture object\n",
    "cap.release()\n",
    " \n",
    "# Closes all the frames\n",
    "cv2.destroyAllWindows()"
   ]
  },
  {
   "cell_type": "code",
   "execution_count": 61,
   "metadata": {},
   "outputs": [
    {
     "data": {
      "text/plain": [
       "<matplotlib.image.AxesImage at 0x10ddeb1d0>"
      ]
     },
     "execution_count": 61,
     "metadata": {},
     "output_type": "execute_result"
    },
    {
     "data": {
      "image/png": "[encoded data removed]",
      "text/plain": [
       "<matplotlib.figure.Figure at 0x10d6e0ef0>"
      ]
     },
     "metadata": {},
     "output_type": "display_data"
    }
   ],
   "source": [
    "plt.imshow(edges,'gray')"
   ]
  },
  {
   "cell_type": "code",
   "execution_count": 71,
   "metadata": {},
   "outputs": [
    {
     "data": {
      "text/plain": [
       "<matplotlib.image.AxesImage at 0x10e5870f0>"
      ]
     },
     "execution_count": 71,
     "metadata": {},
     "output_type": "execute_result"
    },
    {
     "data": {
      "image/png": "[encoded data removed]",
      "text/plain": [
       "<matplotlib.figure.Figure at 0x10da8b080>"
      ]
     },
     "metadata": {},
     "output_type": "display_data"
    }
   ],
   "source": [
    "ac=0.5\n",
    "edgep=np.array(np.where(edges>0)).T\n",
    "l=len(edgep)\n",
    "nd=round(180/ac)\n",
    "cells=np.zeros([l,nd])\n",
    "for i in range(l):\n",
    "    cells[i,:]=getcell(edgep[i],nd)\n",
    "cells=cells.astype('int')\n",
    "m=cells.max()\n",
    "res=np.zeros([m,nd])\n",
    "for i in range(l):\n",
    "    for j in range(nd):\n",
    "        r=cells[i,j]\n",
    "        d=j\n",
    "        res[r-1,j]=res[r-1,j]+1\n",
    "res=(res/res.max())\n",
    "plt.imshow(res,'gray')"
   ]
  },
  {
   "cell_type": "code",
   "execution_count": 72,
   "metadata": {
    "collapsed": true
   },
   "outputs": [],
   "source": [
    "lines=redefine(res,0.5)"
   ]
  },
  {
   "cell_type": "code",
   "execution_count": 77,
   "metadata": {
    "collapsed": true
   },
   "outputs": [],
   "source": [
    "def gather(lines):\n",
    "    line=np.array(lines)\n",
    "    nl=len(line[0])\n",
    "    center=-np.ones([nl,2])\n",
    "    num=np.zeros(nl)\n",
    "    c=0\n",
    "    for i in range(nl):\n",
    "        #print(center)\n",
    "        if c==0:\n",
    "            center[c,:]=line[:,i]\n",
    "            c=c+1\n",
    "            num[c]=num[c]+1\n",
    "            print('new:{}'.format(line[:,i]))\n",
    "        else:\n",
    "            res=((center-line[:,i])**2).sum(axis=1)\n",
    "            resmin=np.min(res)\n",
    "            if resmin>600:\n",
    "                center[c,:]=line[:,i]\n",
    "                c=c+1\n",
    "                num[c]=num[c]+1\n",
    "                print('new:{}'.format(line[:,i]))\n",
    "            else :\n",
    "                pos=np.where(res==resmin)\n",
    "                center[pos,:]=(center[pos,:]*num[c]+line[:,i])/(num[c]+1)\n",
    "                num[pos]=num[pos]+1\n",
    "                print('new added:{}'.format(line[:,i]))\n",
    "    ind=(-num).argsort()[0:2]\n",
    "    fline=center[ind,:]\n",
    "\n",
    "    return fline"
   ]
  },
  {
   "cell_type": "code",
   "execution_count": 109,
   "metadata": {},
   "outputs": [
    {
     "data": {
      "text/plain": [
       "([[70, -101], [125, -95]], [[74, 98], [118, 104]], [[97, -98], [96, 101]])"
      ]
     },
     "execution_count": 109,
     "metadata": {},
     "output_type": "execute_result"
    }
   ],
   "source": [
    "(prel[0],prel[1],prel[2])"
   ]
  },
  {
   "cell_type": "code",
   "execution_count": 119,
   "metadata": {},
   "outputs": [
    {
     "data": {
      "text/plain": [
       "[70.0, -100.99999999999999]"
      ]
     },
     "execution_count": 119,
     "metadata": {},
     "output_type": "execute_result"
    }
   ],
   "source": [
    "prea=np.array(prel)\n",
    "newa=np.array(newl)\n",
    "mid=prea*0.7+newa*0.3\n",
    "list(mid[0][0])"
   ]
  },
  {
   "cell_type": "code",
   "execution_count": 79,
   "metadata": {
    "collapsed": true
   },
   "outputs": [],
   "source": [
    "def linedraw(img,line):\n",
    "    nl=len(line)\n",
    "    ind1=[]\n",
    "    ind2=[]\n",
    "    for i in range(nl):\n",
    "        r,theta=line[i]\n",
    "        theta=theta/360*np.pi\n",
    "        a = np.cos(theta)\n",
    "        b = np.sin(theta)\n",
    "        x0 = a*r\n",
    "        y0 = b*r\n",
    "        x1 = int(x0 + 100*(-b))\n",
    "        y1 = int(y0 + 100*(a))\n",
    "        x2 = int(x0 - 100*(-b))\n",
    "        y2 = int(y0 - 100*(a))\n",
    "        cv2.line(img,(y1,x1),(y2,x2),50,2)\n",
    "        ind1.append([y1,x1])\n",
    "        ind2.append([y2,x2])\n",
    "    indm=[np.array(ind1).mean(axis=0).astype(int),np.array(ind2).mean(axis=0).astype(int)]\n",
    "    cv2.line(img,tuple(indm[0]),tuple(indm[1]),100,2)\n",
    "    return ind1,ind2,indm"
   ]
  },
  {
   "cell_type": "code",
   "execution_count": 80,
   "metadata": {},
   "outputs": [
    {
     "data": {
      "text/plain": [
       "<matplotlib.image.AxesImage at 0x10e676780>"
      ]
     },
     "execution_count": 80,
     "metadata": {},
     "output_type": "execute_result"
    },
    {
     "data": {
      "image/png": "[encoded data removed]",
      "text/plain": [
       "<matplotlib.figure.Figure at 0x10e58f208>"
      ]
     },
     "metadata": {},
     "output_type": "display_data"
    }
   ],
   "source": [
    "gray2=cv2.cvtColor(gray,cv2.COLOR_BGR2GRAY)\n",
    "ind1,ind2,indm=linedraw(gray2,line)\n",
    "plt.imshow(gray2,'gray')"
   ]
  },
  {
   "cell_type": "code",
   "execution_count": 403,
   "metadata": {},
   "outputs": [
    {
     "data": {
      "text/plain": [
       "array([  87, -103])"
      ]
     },
     "execution_count": 403,
     "metadata": {},
     "output_type": "execute_result"
    }
   ],
   "source": [
    "(np.array(ind1).mean(axis=0)).astype(int)"
   ]
  },
  {
   "cell_type": "code",
   "execution_count": 50,
   "metadata": {},
   "outputs": [
    {
     "data": {
      "text/plain": [
       "array([2, 1, 3, 0, 4, 5, 6])"
      ]
     },
     "execution_count": 50,
     "metadata": {},
     "output_type": "execute_result"
    }
   ],
   "source": [
    "num=np.array([1,3,5,2,0,0,0])\n",
    "(-num).argsort()"
   ]
  },
  {
   "cell_type": "code",
   "execution_count": 66,
   "metadata": {},
   "outputs": [
    {
     "data": {
      "text/plain": [
       "array([[  93.25      ,  206.        ],\n",
       "       [ 118.85714286,  182.        ]])"
      ]
     },
     "execution_count": 66,
     "metadata": {},
     "output_type": "execute_result"
    }
   ],
   "source": [
    "line"
   ]
  },
  {
   "cell_type": "code",
   "execution_count": null,
   "metadata": {
    "collapsed": true
   },
   "outputs": [],
   "source": []
  }
 ],
 "metadata": {
  "kernelspec": {
   "display_name": "Python 3",
   "language": "python",
   "name": "python3"
  },
  "language_info": {
   "codemirror_mode": {
    "name": "ipython",
    "version": 3
   },
   "file_extension": ".py",
   "mimetype": "text/x-python",
   "name": "python",
   "nbconvert_exporter": "python",
   "pygments_lexer": "ipython3",
   "version": "3.6.2"
  }
 },
 "nbformat": 4,
 "nbformat_minor": 2
}
