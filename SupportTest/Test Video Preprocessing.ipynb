{
 "cells": [
  {
   "cell_type": "code",
   "execution_count": 16,
   "metadata": {},
   "outputs": [],
   "source": [
    "import cv2\n",
    "import numpy as np\n",
    " \n",
    "# Create a VideoCapture object and read from input file\n",
    "# If the input is the camera, pass 0 instead of the video file name\n",
    "#vedioname = input(\"vedio name: \")\n",
    "vedioname = 't1.mp4'\n",
    "cap = cv2.VideoCapture(vedioname)\n",
    "fourcc = cv2.VideoWriter_fourcc(*'MP42')\n",
    "outname = 't1o.mp4'\n",
    "out = cv2.VideoWriter(outname,fourcc, 20.0, (640,480))\n",
    "\n",
    "# Check if camera opened successfully\n",
    "if (cap.isOpened()== False): \n",
    "    print(\"Error opening video stream or file\")\n",
    "\n",
    "# Read until video is completed\n",
    "while(cap.isOpened()):\n",
    "# Capture frame-by-frame\n",
    "    ret, frame = cap.read()\n",
    "\n",
    "    # main operation goes here\n",
    "    if ret == True:\n",
    "        \n",
    "        #converting grayscale and resize\n",
    "        gray = cv2.cvtColor(frame,cv2.COLOR_BGR2GRAY)\n",
    "        gray = cv2.resize(gray, (640, 480))\n",
    "        out.write(gray)\n",
    "        \n",
    "        #show video\n",
    "        cv2.imshow(outname,gray)    \n",
    "        if cv2.waitKey(25) & 0xFF == ord('q'):\n",
    "            break\n",
    "    else:\n",
    "        break\n",
    "    # Press Q on keyboard to exit\n",
    "    \n",
    "\n",
    "\n",
    "# When everything done, release the video capture object\n",
    "cap.release()\n",
    "#saveout\n",
    "out.release()\n",
    "# Closes all the frames\n",
    "cv2.destroyAllWindows()"
   ]
  },
  {
   "cell_type": "code",
   "execution_count": null,
   "metadata": {},
   "outputs": [],
   "source": []
  }
 ],
 "metadata": {
  "kernelspec": {
   "display_name": "Python 3",
   "language": "python",
   "name": "python3"
  },
  "language_info": {
   "codemirror_mode": {
    "name": "ipython",
    "version": 3
   },
   "file_extension": ".py",
   "mimetype": "text/x-python",
   "name": "python",
   "nbconvert_exporter": "python",
   "pygments_lexer": "ipython3",
   "version": "3.5.5"
  }
 },
 "nbformat": 4,
 "nbformat_minor": 2
}
