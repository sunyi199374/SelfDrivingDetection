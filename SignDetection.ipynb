{
 "cells": [
  {
   "cell_type": "code",
   "execution_count": 162,
   "metadata": {
    "collapsed": true
   },
   "outputs": [],
   "source": [
    "import cv2\n",
    "import numpy as np\n",
    "\n",
    "def select_b_g_r(image):\n",
    "    # blue color mask\n",
    "    lower = np.uint8([  0, 0, 0])\n",
    "    upper = np.uint8([255, 255, 0])\n",
    "    blue_mask = cv2.inRange(image, lower, upper)\n",
    "    \n",
    "    # green color mask\n",
    "    lower = np.uint8([  0, 50, 35])\n",
    "    upper = np.uint8([50, 80, 50])\n",
    "    green_mask = cv2.inRange(image, lower, upper)\n",
    "    \n",
    "    # red color mask\n",
    "    lower = np.uint8([  0, 0, 0])\n",
    "    upper = np.uint8([50, 50, 255])\n",
    "    red_mask = cv2.inRange(image, lower, upper)\n",
    "    \n",
    "    hsv = convert_hsv(image)\n",
    "    # yellow color mask HSV\n",
    "    lower = np.uint8([ 80, 50, 0])\n",
    "    upper = np.uint8([ 150, 255, 255])\n",
    "    #lower = np.uint8([ 30, 20, 0])\n",
    "    #upper = np.uint8([ 80, 100, 100])\n",
    "    yellow_mask = cv2.inRange(hsv, lower, upper)\n",
    "    \n",
    "    # combine the mask\n",
    "    mask_bg = cv2.bitwise_or(blue_mask, green_mask)\n",
    "    #mask_ry = cv2.bitwise_or(red_mask, yellow_mask)\n",
    "    mask_ry = cv2.bitwise_or(red_mask, yellow_mask)\n",
    "    mask = cv2.bitwise_or(mask_bg,mask_ry)\n",
    "    #mask = yellow_mask\n",
    "    return cv2.bitwise_and(image, image, mask = mask)\n",
    "\n",
    "def convert_hls(image):\n",
    "    return cv2.cvtColor(image, cv2.COLOR_RGB2HLS)\n",
    "\n",
    "def convert_hsv(image):\n",
    "    return cv2.cvtColor(image, cv2.COLOR_RGB2HSV)"
   ]
  },
  {
   "cell_type": "code",
   "execution_count": 405,
   "metadata": {},
   "outputs": [],
   "source": [
    "\n",
    " \n",
    "# Create a VideoCapture object and read from input file\n",
    "# If the input is the camera, pass 0 instead of the video file name\n",
    "#vedioname = input(\"vedio name: \")\n",
    "vedioname = 'r2.jpg'\n",
    "frame = cv2.imread(vedioname)\n",
    "    \n",
    "frame = cv2.resize(frame, (640, 480))\n",
    "#gray = cv2.cvtColor(frame,cv2.COLOR_BGR2GRAY)\n",
    "\n",
    "r,c,n = frame.shape\n",
    "midx = int(c/2)\n",
    "midy = int(r/2)\n",
    "offsetx = 80\n",
    "offsety = 100\n",
    "        #frame = frame[midx-offsetx:midx+offsetx, midy-offsety:midy+offsety]\n",
    "        \n",
    "    \n",
    "        #equlizer in rgb\n",
    "img_yuv = cv2.cvtColor(frame, cv2.COLOR_BGR2YUV)\n",
    "        # equalize the histogram of the Y channel\n",
    "img_yuv[:,:,0] = cv2.equalizeHist(img_yuv[:,:,0])\n",
    "        # convert the YUV image back to RGB format\n",
    "img = cv2.cvtColor(img_yuv, cv2.COLOR_YUV2BGR)\n",
    "        \n",
    "        #converting grayscale and resize\n",
    "img = select_b_g_r(img)\n",
    "        \n",
    "        #img = cv2.cvtColor(frame, cv2.COLOR_RGB2HSV)\n",
    "        \n",
    "\n",
    "        #dilation process\n",
    "kernel = np.ones((3,3),np.uint8)\n",
    "\n",
    "\n",
    "gray = cv2.erode(img,kernel,iterations = 2)\n",
    "gray = cv2.dilate(gray,kernel,iterations = 1)\n",
    "gray = cv2.morphologyEx(gray, cv2.MORPH_OPEN, kernel)\n",
    "gray = cv2.cvtColor(gray,cv2.COLOR_BGR2GRAY)\n",
    "\n",
    "#canny edge detection\n",
    "\n",
    " \n",
    "\n",
    "\n",
    "#cv2.drawContours(gray, area, 3, (0,255,0), 3)\n",
    "#gray_filtered = cv2.inRange(gray, 200,255)\n",
    "# Threshold it so it becomes binary\n",
    "ret, gray = cv2.threshold(gray,30,255,cv2.THRESH_BINARY)\n",
    "\n",
    "gray = cv2.Canny(gray,80,150,apertureSize = 3)\n",
    "#ret,thresh = cv2.threshold(gray, 127, 255, 0)\n",
    "im2, contours, hierarchy = cv2.findContours(gray,1,2)\n",
    "\n",
    "\n",
    "n = 0\n",
    "la = 0\n",
    "maxarea = 0\n",
    "area = []\n",
    "for cnt in contours:\n",
    "\n",
    "    #if cv2.isContourConvex(contours[i]) == True:\n",
    "        #if cv2.contourArea(contours[i])>80:\n",
    "    [x,y,w,h] = cv2.boundingRect(cnt)  \n",
    "    a = w*h\n",
    "    if a > 10000:\n",
    "        area.append(a)\n",
    "    #cv2.rectangle(gray,(x,y),(x+w,y+h),(255,0,255),2)\n",
    "\n",
    "        cv2.rectangle(gray,(x,y),(x+w,y+h),(255,0,255),2)\n",
    "cv2.imshow('Frame',gray)  \n",
    "#cv2.imshow('Frame',gray)   \n",
    "cv2.waitKey(50000) & 0xFF == ord('q')\n",
    "    #cv2.drawContours(gray, contours[i], -1, (255,255,255), 5)\n",
    "\n",
    "    #break\n",
    "\n",
    "cv2.destroyAllWindows()\n",
    "     \n",
    "         \n"
   ]
  },
  {
   "cell_type": "code",
   "execution_count": null,
   "metadata": {
    "collapsed": true
   },
   "outputs": [],
   "source": []
  },
  {
   "cell_type": "code",
   "execution_count": null,
   "metadata": {
    "collapsed": true
   },
   "outputs": [],
   "source": []
  },
  {
   "cell_type": "code",
   "execution_count": null,
   "metadata": {
    "collapsed": true
   },
   "outputs": [],
   "source": []
  },
  {
   "cell_type": "code",
   "execution_count": null,
   "metadata": {
    "collapsed": true
   },
   "outputs": [],
   "source": []
  },
  {
   "cell_type": "code",
   "execution_count": null,
   "metadata": {
    "collapsed": true
   },
   "outputs": [],
   "source": []
  },
  {
   "cell_type": "code",
   "execution_count": null,
   "metadata": {
    "collapsed": true
   },
   "outputs": [],
   "source": []
  },
  {
   "cell_type": "code",
   "execution_count": null,
   "metadata": {
    "collapsed": true
   },
   "outputs": [],
   "source": []
  },
  {
   "cell_type": "code",
   "execution_count": null,
   "metadata": {
    "collapsed": true
   },
   "outputs": [],
   "source": []
  },
  {
   "cell_type": "code",
   "execution_count": null,
   "metadata": {
    "collapsed": true
   },
   "outputs": [],
   "source": []
  },
  {
   "cell_type": "code",
   "execution_count": null,
   "metadata": {
    "collapsed": true
   },
   "outputs": [],
   "source": []
  },
  {
   "cell_type": "code",
   "execution_count": null,
   "metadata": {
    "collapsed": true
   },
   "outputs": [],
   "source": []
  },
  {
   "cell_type": "code",
   "execution_count": null,
   "metadata": {
    "collapsed": true
   },
   "outputs": [],
   "source": []
  },
  {
   "cell_type": "code",
   "execution_count": null,
   "metadata": {
    "collapsed": true
   },
   "outputs": [],
   "source": []
  },
  {
   "cell_type": "code",
   "execution_count": null,
   "metadata": {
    "collapsed": true
   },
   "outputs": [],
   "source": []
  },
  {
   "cell_type": "code",
   "execution_count": null,
   "metadata": {
    "collapsed": true
   },
   "outputs": [],
   "source": []
  },
  {
   "cell_type": "code",
   "execution_count": null,
   "metadata": {
    "collapsed": true
   },
   "outputs": [],
   "source": []
  },
  {
   "cell_type": "code",
   "execution_count": null,
   "metadata": {
    "collapsed": true
   },
   "outputs": [],
   "source": []
  },
  {
   "cell_type": "code",
   "execution_count": null,
   "metadata": {
    "collapsed": true
   },
   "outputs": [],
   "source": []
  },
  {
   "cell_type": "code",
   "execution_count": null,
   "metadata": {
    "collapsed": true
   },
   "outputs": [],
   "source": []
  },
  {
   "cell_type": "code",
   "execution_count": null,
   "metadata": {
    "collapsed": true
   },
   "outputs": [],
   "source": []
  }
 ],
 "metadata": {
  "kernelspec": {
   "display_name": "Python 3",
   "language": "python",
   "name": "python3"
  },
  "language_info": {
   "codemirror_mode": {
    "name": "ipython",
    "version": 3
   },
   "file_extension": ".py",
   "mimetype": "text/x-python",
   "name": "python",
   "nbconvert_exporter": "python",
   "pygments_lexer": "ipython3",
   "version": "3.6.3"
  }
 },
 "nbformat": 4,
 "nbformat_minor": 2
}
